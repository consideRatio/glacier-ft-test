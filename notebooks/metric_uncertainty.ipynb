{
 "cells": [
  {
   "cell_type": "code",
   "execution_count": 1,
   "id": "royal-nothing",
   "metadata": {},
   "outputs": [
    {
     "name": "stdout",
     "output_type": "stream",
     "text": [
      "This is the Open Source version of ISCE.\n",
      "Some of the workflows depend on a separate licensed package.\n",
      "To obtain the licensed package, please make a request for ISCE\n",
      "through the website: https://download.jpl.nasa.gov/ops/request/index.cfm.\n",
      "Alternatively, if you are a member, or can become a member of WinSAR\n",
      "you may be able to obtain access to a version of the licensed sofware at\n",
      "https://winsar.unavco.org/software/isce\n"
     ]
    }
   ],
   "source": [
    "import logging\n",
    "mpl_logger = logging.getLogger('matplotlib')\n",
    "mpl_logger.setLevel(logging.WARNING)\n",
    "from carst import SingleRaster, RasterVelos, ConfParams\n",
    "from carst.libft import ampcor_task, writeout_ampcor_task\n",
    "from carst.libxyz import ZArray, DuoZArray, AmpcoroffFile, points_in_polygon"
   ]
  },
  {
   "cell_type": "markdown",
   "id": "secondary-spotlight",
   "metadata": {},
   "source": [
    "1. Firstly let's start with rwo pixel offset."
   ]
  },
  {
   "cell_type": "code",
   "execution_count": null,
   "id": "raising-blues",
   "metadata": {},
   "outputs": [],
   "source": [
    "ampoff = AmpcoroffFile('/home/whyj/Projects/Github/CARST/examples/featuretrack/Demo_Data/20180401-20180417_ampoff.p')\n",
    "ampoff.Load()\n",
    "ampoff.SetIni(ini)\n",
    "ampoff.FillwithNAN()\n",
    "ampoff.Ampcoroff2Velo(velo_or_pixel='pixel')\n",
    "\n",
    "shp = ini.velocorrection['bedrock']\n",
    "prefix = ini.rawoutput['label_geotiff']\n",
    "velo = RasterVelos(vx=SingleRaster(prefix + '_vx.tif'),\n",
    "                   vy=SingleRaster(prefix + '_vy.tif'),\n",
    "                   snr=SingleRaster(prefix + '_snr.tif'),\n",
    "                   mag=SingleRaster(prefix + '_mag.tif'),\n",
    "                   errx=SingleRaster(prefix + '_errx.tif'),\n",
    "                   erry=SingleRaster(prefix + '_erry.tif'))\n",
    "\n",
    "idx = points_in_polygon(ampoff.data[:, [0,2]], shp)\n",
    "\n",
    "# SNR constraint\n",
    "snr_threshold = ampoff.snr[:, 2] >= ini.noiseremoval['snr']\n",
    "idx = np.logical_and(idx, snr_threshold)\n",
    "\n",
    "\n",
    "vxraw_bdval = ZArray(ampoff.velo_x[idx, 2])\n",
    "vyraw_bdval = ZArray(ampoff.velo_y[idx, 2])\n",
    "vxyraw_bdval = DuoZArray(z1=vxraw_bdval, z2=vyraw_bdval, ini=ini)\n",
    "vxyraw_bdval.OutlierDetection2D(thres_sigma=ini.velocorrection['refvelo_outlier_sigma'])\n",
    "vxyraw_bdval.HistWithOutliers(which='x')\n",
    "vxyraw_bdval.HistWithOutliers(which='y')"
   ]
  }
 ],
 "metadata": {
  "kernelspec": {
   "display_name": "Python 3",
   "language": "python",
   "name": "python3"
  },
  "language_info": {
   "codemirror_mode": {
    "name": "ipython",
    "version": 3
   },
   "file_extension": ".py",
   "mimetype": "text/x-python",
   "name": "python",
   "nbconvert_exporter": "python",
   "pygments_lexer": "ipython3",
   "version": "3.9.2"
  }
 },
 "nbformat": 4,
 "nbformat_minor": 5
}
